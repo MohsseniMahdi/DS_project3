{
 "cells": [
  {
   "cell_type": "code",
   "execution_count": 1,
   "metadata": {},
   "outputs": [],
   "source": [
    "from sklearn.pipeline import Pipeline\n",
    "from sklearn.preprocessing import StandardScaler, RobustScaler\n",
    "from imblearn.pipeline import Pipeline as ImbPipeline\n",
    "from imblearn.over_sampling import BorderlineSMOTE\n",
    "from imblearn.under_sampling import TomekLinks\n",
    "from scipy.stats.mstats import winsorize\n",
    "import numpy as np\n",
    "import pandas as pd\n",
    "from collections import Counter\n",
    "from sklearn.model_selection import train_test_split\n",
    "import matplotlib.pyplot as plt\n",
    "import matplotlib.patches as mpatches\n",
    "from collections import Counter\n",
    "import seaborn as sns"
   ]
  },
  {
   "cell_type": "code",
   "execution_count": null,
   "metadata": {},
   "outputs": [],
   "source": [
    "# Load data\n",
    "data = pd.read_csv(\"raw_data/creditcard.csv\")\n",
    "df = data.copy()\n",
    "\n",
    "# Remove duplicate rows\n",
    "df = df.drop_duplicates().reset_index(drop=True)\n",
    "\n",
    "# Extract transaction hour and apply cyclical transformation\n",
    "df[\"Hour\"] = (df[\"Time\"] // 3600) % 24\n",
    "df[\"Hour_sin\"] = np.sin(2 * np.pi * df[\"Hour\"] / 24)\n",
    "df[\"Hour_cos\"] = np.cos(2 * np.pi * df[\"Hour\"] / 24)\n",
    "df.drop(columns=[\"Hour\", \"Time\"], inplace=True)  # Drop raw 'Time' column\n",
    "\n",
    "# Define features and labels\n",
    "X = df.drop(\"Class\", axis=1)\n",
    "y = df[\"Class\"]\n",
    "\n",
    "# Train-test split with stratification\n",
    "X_train, X_temp, y_train, y_temp = train_test_split(X, y, test_size=0.25, random_state=42, stratify=y)\n",
    "X_test, X_val, y_test, y_val = train_test_split(X_temp, y_temp, test_size=0.5, random_state=42)\n",
    "\n",
    "# Define preprocessing pipeline\n",
    "preprocessor = Pipeline([\n",
    "    (\"scaler\", RobustScaler()),  # RobustScaler is good for outliers in PCA features\n",
    "])\n",
    "\n",
    "# Apply preprocessing\n",
    "X_train_scaled = preprocessor.fit_transform(X_train)\n",
    "X_test_scaled = preprocessor.transform(X_test)\n",
    "\n",
    "# Apply SMOTE for class balancing\n",
    "smote = BorderlineSMOTE(sampling_strategy=0.3, random_state=42)\n",
    "X_train_smote, y_train_smote = smote.fit_resample(X_train_scaled, y_train)\n",
    "\n",
    "# Apply Tomek Links for cleaning\n",
    "tomek = TomekLinks()\n",
    "X_final, y_final = tomek.fit_resample(X_train_smote, y_train_smote)\n",
    "\n",
    "print(\"Final class distribution after preprocessing:\", Counter(y_final))\n"
   ]
  },
  {
   "cell_type": "code",
   "execution_count": null,
   "metadata": {},
   "outputs": [],
   "source": [
    "# Load data\n",
    "data = pd.read_csv(\"raw_data/creditcard.csv\")\n",
    "df = data.copy()\n",
    "\n",
    "# Remove duplicate rows\n",
    "df = df.drop_duplicates().reset_index(drop=True)\n",
    "\n",
    "# Extract transaction hour and apply cyclical transformation\n",
    "df[\"Hour\"] = (df[\"Time\"] // 3600) % 24\n",
    "df[\"Hour_sin\"] = np.sin(2 * np.pi * df[\"Hour\"] / 24)\n",
    "df[\"Hour_cos\"] = np.cos(2 * np.pi * df[\"Hour\"] / 24)\n",
    "df.drop(columns=[\"Hour\", \"Time\"], inplace=True)  # Drop raw 'Time' column\n",
    "\n",
    "# Define features and labels\n",
    "X = df.drop(\"Class\", axis=1)\n",
    "y = df[\"Class\"]\n",
    "\n",
    "# Train-test split with stratification\n",
    "X_train, X_temp, y_train, y_temp = train_test_split(X, y, test_size=0.25, random_state=42, stratify=y)\n",
    "X_test, X_val, y_test, y_val = train_test_split(X_temp, y_temp, test_size=0.5, random_state=42)\n",
    "\n",
    "# Define preprocessing pipeline\n",
    "preprocessor = Pipeline([\n",
    "    (\"scaler\", RobustScaler()),  # RobustScaler is good for outliers in PCA features\n",
    "])\n",
    "\n",
    "# Apply preprocessing\n",
    "X_train_scaled = preprocessor.fit_transform(X_train)\n",
    "X_test_scaled = preprocessor.transform(X_test)\n",
    "\n",
    "# Apply SMOTE for class balancing\n",
    "smote = BorderlineSMOTE(sampling_strategy=0.3, random_state=42)\n",
    "X_train_smote, y_train_smote = smote.fit_resample(X_train_scaled, y_train)\n",
    "\n",
    "# Apply Tomek Links for cleaning\n",
    "tomek = TomekLinks()\n",
    "X_final, y_final = tomek.fit_resample(X_train_smote, y_train_smote)\n",
    "\n",
    "print(\"Final class distribution after preprocessing:\", Counter(y_final))\n"
   ]
  },
  {
   "cell_type": "code",
   "execution_count": 3,
   "metadata": {},
   "outputs": [
    {
     "name": "stdout",
     "output_type": "stream",
     "text": [
      "Original class distribution befor SMOTE in first part: Counter({0: 283253, 1: 473})\n",
      "Original class distribution after SMOTE in first part: Counter({0: 212439, 1: 63731})\n",
      "Original class distribution befor Tomek: Counter({0: 212439, 1: 63731})\n",
      "After Tomek Links: Counter({0: 212432, 1: 63731})\n"
     ]
    }
   ],
   "source": [
    "\n",
    "data1 = pd.read_csv('raw_data/creditcard.csv')\n",
    "df = data1.copy()\n",
    "\n",
    "# Remove duplicate rows\n",
    "df = df.drop_duplicates().reset_index(drop=True)\n",
    "\n",
    "# Extract transaction hour and apply cyclical transformation\n",
    "df['Hour'] = (df['Time'] // 3600) % 24\n",
    "# Apply cyclical transformation\n",
    "df[\"Hour_sin\"] = np.sin(2 * np.pi * df[\"Hour\"] / 24)\n",
    "df[\"Hour_cos\"] = np.cos(2 * np.pi * df[\"Hour\"] / 24)\n",
    "df.drop(columns=[\"Hour\", \"Time\"], inplace=True)\n",
    "\n",
    "# Define features and labels\n",
    "X = df.drop(\"Class\", axis=1)\n",
    "y = df[\"Class\"]\n",
    "\n",
    "X_train, X_temp, y_train, y_temp = train_test_split(X, y, test_size=0.25, random_state=42, stratify=y)\n",
    "X_test, X_val, y_test, y_val = train_test_split(X_temp, y_temp, test_size=0.5, random_state=42)\n",
    "\n",
    "print(\"Original class distribution befor SMOTE in first part:\", Counter(y))\n",
    "\n",
    "# Apply BorderlineSMOTE (instead of regular SMOTE)\n",
    "smote = BorderlineSMOTE(sampling_strategy=0.3, random_state=42)\n",
    "X_train_smote, y_train_smote = smote.fit_resample(X_train, y_train)\n",
    "\n",
    "\n",
    "print(\"Original class distribution after SMOTE in first part:\", Counter(y_train_smote))\n",
    "\n",
    "#y_train_smote= pd.DataFrame(y_train_smote)\n",
    "\n",
    "scaler = RobustScaler()\n",
    "X_train_smote.iloc[:, 1:29] = scaler.fit_transform(X_train_smote.iloc[:, 1:29])\n",
    "X_test.iloc[:, 1:29] = scaler.transform(X_test.iloc[:, 1:29])\n",
    "X_val.iloc[:, 1:29] = scaler.transform(X_val.iloc[:, 1:29])\n",
    "\n",
    "columns_to_winsorize = [\"V8\", \"V18\", \"V21\", \"V27\", \"V28\"]\n",
    "for col in columns_to_winsorize:\n",
    "    X_train_smote[col] = winsorize(X_train_smote[col], limits=[0.01, 0.01])\n",
    "    X_test[col] = winsorize(X_test[col], limits=[0.01, 0.01])\n",
    "    X_val[col] = winsorize(X_val[col], limits=[0.01, 0.01])\n",
    "\n",
    "X_train_smote['V20'] = np.log(X_train_smote['V20'].clip(lower=0.0001))\n",
    "X_train_smote['V23'] = np.log(X_train_smote['V23'].clip(lower=0.0001))\n",
    "X_test['V20'] = np.log(X_test['V20'].clip(lower=0.0001))\n",
    "X_test['V23'] = np.log(X_test['V23'].clip(lower=0.0001))\n",
    "X_val['V20'] = np.log(X_val['V20'].clip(lower=0.0001))\n",
    "X_val['V23'] = np.log(X_val['V23'].clip(lower=0.0001))\n",
    "\n",
    "X_train_smote[\"Amount\"] = np.log1p(X_train_smote[\"Amount\"])  # log(1 + Amount) to handle zero values\n",
    "X_test[\"Amount\"] = np.log1p(X_test[\"Amount\"])  # log(1 + Amount) to handle zero values\n",
    "X_val[\"Amount\"] = np.log1p(X_val[\"Amount\"])\n",
    "\n",
    "\n",
    "scaler = StandardScaler()\n",
    "X_train_smote[\"Amount\"] = scaler.fit_transform(X_train_smote[[\"Amount\"]])\n",
    "X_test[\"Amount\"] = scaler.transform(X_test[[\"Amount\"]])\n",
    "X_val[\"Amount\"] = scaler.transform(X_val[[\"Amount\"]])\n",
    "\n",
    "X_train_smote[\"Amount\"] = winsorize(X_train_smote[\"Amount\"], limits=[0.01, 0.01])\n",
    "X_test[\"Amount\"] = winsorize(X_test[\"Amount\"], limits=[0.01, 0.01])\n",
    "X_val[\"Amount\"] = winsorize(X_val[\"Amount\"], limits=[0.01, 0.01])\n",
    "\n",
    "# Ensure all features are scaled if necessary (PCA is sensitive to feature scaling)\n",
    "scaler = StandardScaler()\n",
    "X_train_scaled = scaler.fit_transform(X_train_smote)\n",
    "X_test_scaled = scaler.transform(X_test)\n",
    "X_val_scaled = scaler.transform(X_val)\n",
    "\n",
    "\"\"\"n_components = 24\n",
    "pca = PCA(n_components=n_components)\n",
    "X_train_pca = pca.fit_transform(X_train_scaled)\n",
    "X_test_pca = pca.transform(X_test_scaled)\"\"\"\n",
    "\n",
    "print(\"Original class distribution befor Tomek:\", Counter(y_train_smote))\n",
    "\n",
    "\n",
    "# Apply Tomek Links only if class imbalance remains\n",
    "tomek = TomekLinks()\n",
    "X_final, y_final = tomek.fit_resample(X_train_scaled, y_train_smote)\n",
    "\n",
    "# Check final class distribution\n",
    "print(\"After Tomek Links:\", Counter(y_final))\n"
   ]
  },
  {
   "cell_type": "code",
   "execution_count": 4,
   "metadata": {},
   "outputs": [],
   "source": [
    "X_train = pd.DataFrame(X_final, columns=X.columns)\n",
    "X_test = pd.DataFrame(X_test_scaled, columns=X.columns)\n",
    "X_val = pd.DataFrame(X_val_scaled, columns=X.columns)"
   ]
  },
  {
   "cell_type": "code",
   "execution_count": 5,
   "metadata": {},
   "outputs": [
    {
     "data": {
      "text/plain": [
       "Index(['V1', 'V2', 'V3', 'V4', 'V5', 'V6', 'V7', 'V8', 'V9', 'V10', 'V11',\n",
       "       'V12', 'V13', 'V14', 'V15', 'V16', 'V17', 'V18', 'V19', 'V20', 'V21',\n",
       "       'V22', 'V23', 'V24', 'V25', 'V26', 'V27', 'V28', 'Amount', 'Hour_sin',\n",
       "       'Hour_cos'],\n",
       "      dtype='object')"
      ]
     },
     "execution_count": 5,
     "metadata": {},
     "output_type": "execute_result"
    }
   ],
   "source": [
    "X_val.columns"
   ]
  },
  {
   "cell_type": "code",
   "execution_count": 14,
   "metadata": {},
   "outputs": [
    {
     "data": {
      "image/png": "[encoded data removed]",
      "text/plain": [
       "<Figure size 1200x600 with 1 Axes>"
      ]
     },
     "metadata": {},
     "output_type": "display_data"
    }
   ],
   "source": [
    "plt.figure(figsize=(12, 6))\n",
    "sns.boxplot(data=X_train_smote.iloc[:, 1:29])  # Excluding 'Time', 'Amount', 'Hour', 'Class'\n",
    "plt.xticks(rotation=90)\n",
    "plt.title(\"Boxplot of PCA Features\")\n",
    "plt.show()\n"
   ]
  },
  {
   "cell_type": "code",
   "execution_count": null,
   "metadata": {},
   "outputs": [],
   "source": [
    "X_final = pd.DataFrame(X_final)"
   ]
  },
  {
   "cell_type": "code",
   "execution_count": 14,
   "metadata": {},
   "outputs": [
    {
     "ename": "AttributeError",
     "evalue": "'numpy.ndarray' object has no attribute 'values'",
     "output_type": "error",
     "traceback": [
      "\u001b[0;31m---------------------------------------------------------------------------\u001b[0m",
      "\u001b[0;31mAttributeError\u001b[0m                            Traceback (most recent call last)",
      "Cell \u001b[0;32mIn [14], line 1\u001b[0m\n\u001b[0;32m----> 1\u001b[0m y_final \u001b[38;5;241m=\u001b[39m \u001b[43my_final\u001b[49m\u001b[38;5;241;43m.\u001b[39;49m\u001b[43mvalues\u001b[49m\u001b[38;5;241m.\u001b[39mravel()\n\u001b[1;32m      2\u001b[0m X_final \u001b[38;5;241m=\u001b[39m X_final\u001b[38;5;241m.\u001b[39mvalues\u001b[38;5;241m.\u001b[39mravel()\n",
      "\u001b[0;31mAttributeError\u001b[0m: 'numpy.ndarray' object has no attribute 'values'"
     ]
    }
   ],
   "source": [
    "y_final = y_final.values.ravel()\n",
    "X_final = X_final.values.ravel()"
   ]
  },
  {
   "cell_type": "code",
   "execution_count": 6,
   "metadata": {},
   "outputs": [
    {
     "name": "stderr",
     "output_type": "stream",
     "text": [
      "/home/mahdi/.pyenv/versions/3.10.6/envs/lewagon/lib/python3.10/site-packages/sklearn/utils/validation.py:2739: UserWarning: X does not have valid feature names, but BalancedRandomForestClassifier was fitted with feature names\n",
      "  warnings.warn(\n"
     ]
    },
    {
     "name": "stdout",
     "output_type": "stream",
     "text": [
      "Classification Report:\n",
      "               precision    recall  f1-score   support\n",
      "\n",
      "           0       1.00      1.00      1.00     35410\n",
      "           1       0.85      0.79      0.81        56\n",
      "\n",
      "    accuracy                           1.00     35466\n",
      "   macro avg       0.92      0.89      0.91     35466\n",
      "weighted avg       1.00      1.00      1.00     35466\n",
      "\n",
      "AUC-ROC Score: 0.8927441804171541\n"
     ]
    }
   ],
   "source": [
    "from imblearn.ensemble import BalancedRandomForestClassifier\n",
    "from sklearn.metrics import classification_report, roc_auc_score\n",
    "\n",
    "# Initialize the Balanced Random Forest model\n",
    "model = BalancedRandomForestClassifier(n_estimators=100, random_state=42)\n",
    "\n",
    "# Train the model\n",
    "model.fit(X_train, y_final)\n",
    "\n",
    "# Make predictions\n",
    "y_pred = model.predict(X_test)\n",
    "\n",
    "# Evaluate model performance\n",
    "print(\"Classification Report:\\n\", classification_report(y_test, y_pred))\n",
    "print(\"AUC-ROC Score:\", roc_auc_score(y_test, y_pred))\n"
   ]
  },
  {
   "cell_type": "code",
   "execution_count": 16,
   "metadata": {},
   "outputs": [
    {
     "ename": "ValueError",
     "evalue": "\nAll the 50 fits failed.\nIt is very likely that your model is misconfigured.\nYou can try to debug the error by setting error_score='raise'.\n\nBelow are more details about the failures:\n--------------------------------------------------------------------------------\n50 fits failed with the following error:\nTraceback (most recent call last):\n  File \"/home/mahdi/.pyenv/versions/lewagon/lib/python3.10/site-packages/sklearn/model_selection/_validation.py\", line 729, in _fit_and_score\n    estimator.fit(X_train, y_train, **fit_params)\n  File \"/home/mahdi/.pyenv/versions/lewagon/lib/python3.10/site-packages/imblearn/ensemble/_forest.py\", line 501, in fit\n    self._validate_estimator()\n  File \"/home/mahdi/.pyenv/versions/lewagon/lib/python3.10/site-packages/imblearn/ensemble/_forest.py\", line 389, in _validate_estimator\n    self.base_estimator_ = clone(self.base_estimator)\n  File \"/home/mahdi/.pyenv/versions/lewagon/lib/python3.10/site-packages/sklearn/base.py\", line 76, in clone\n    return _clone_parametrized(estimator, safe=safe)\n  File \"/home/mahdi/.pyenv/versions/lewagon/lib/python3.10/site-packages/sklearn/base.py\", line 98, in _clone_parametrized\n    raise TypeError(\nTypeError: Cannot clone object ''deprecated'' (type <class 'str'>): it does not seem to be a scikit-learn estimator as it does not implement a 'get_params' method.\n",
     "output_type": "error",
     "traceback": [
      "\u001b[0;31m---------------------------------------------------------------------------\u001b[0m",
      "\u001b[0;31mValueError\u001b[0m                                Traceback (most recent call last)",
      "Cell \u001b[0;32mIn [16], line 12\u001b[0m\n\u001b[1;32m     10\u001b[0m \u001b[38;5;66;03m# Randomized search\u001b[39;00m\n\u001b[1;32m     11\u001b[0m random_search \u001b[38;5;241m=\u001b[39m RandomizedSearchCV(model, param_distributions\u001b[38;5;241m=\u001b[39mparam_grid, n_iter\u001b[38;5;241m=\u001b[39m\u001b[38;5;241m10\u001b[39m, scoring\u001b[38;5;241m=\u001b[39m\u001b[38;5;124m'\u001b[39m\u001b[38;5;124mroc_auc\u001b[39m\u001b[38;5;124m'\u001b[39m, cv\u001b[38;5;241m=\u001b[39m\u001b[38;5;241m5\u001b[39m, random_state\u001b[38;5;241m=\u001b[39m\u001b[38;5;241m42\u001b[39m, n_jobs\u001b[38;5;241m=\u001b[39m\u001b[38;5;241m-\u001b[39m\u001b[38;5;241m1\u001b[39m)\n\u001b[0;32m---> 12\u001b[0m \u001b[43mrandom_search\u001b[49m\u001b[38;5;241;43m.\u001b[39;49m\u001b[43mfit\u001b[49m\u001b[43m(\u001b[49m\u001b[43mX_final\u001b[49m\u001b[43m,\u001b[49m\u001b[43m \u001b[49m\u001b[43my_final\u001b[49m\u001b[43m)\u001b[49m\n\u001b[1;32m     14\u001b[0m \u001b[38;5;28mprint\u001b[39m(\u001b[38;5;124m\"\u001b[39m\u001b[38;5;124mBest parameters:\u001b[39m\u001b[38;5;124m\"\u001b[39m, random_search\u001b[38;5;241m.\u001b[39mbest_params_)\n\u001b[1;32m     16\u001b[0m \u001b[38;5;66;03m# Evaluate best model\u001b[39;00m\n",
      "File \u001b[0;32m~/.pyenv/versions/lewagon/lib/python3.10/site-packages/sklearn/base.py:1152\u001b[0m, in \u001b[0;36m_fit_context.<locals>.decorator.<locals>.wrapper\u001b[0;34m(estimator, *args, **kwargs)\u001b[0m\n\u001b[1;32m   1145\u001b[0m     estimator\u001b[38;5;241m.\u001b[39m_validate_params()\n\u001b[1;32m   1147\u001b[0m \u001b[38;5;28;01mwith\u001b[39;00m config_context(\n\u001b[1;32m   1148\u001b[0m     skip_parameter_validation\u001b[38;5;241m=\u001b[39m(\n\u001b[1;32m   1149\u001b[0m         prefer_skip_nested_validation \u001b[38;5;129;01mor\u001b[39;00m global_skip_validation\n\u001b[1;32m   1150\u001b[0m     )\n\u001b[1;32m   1151\u001b[0m ):\n\u001b[0;32m-> 1152\u001b[0m     \u001b[38;5;28;01mreturn\u001b[39;00m \u001b[43mfit_method\u001b[49m\u001b[43m(\u001b[49m\u001b[43mestimator\u001b[49m\u001b[43m,\u001b[49m\u001b[43m \u001b[49m\u001b[38;5;241;43m*\u001b[39;49m\u001b[43margs\u001b[49m\u001b[43m,\u001b[49m\u001b[43m \u001b[49m\u001b[38;5;241;43m*\u001b[39;49m\u001b[38;5;241;43m*\u001b[39;49m\u001b[43mkwargs\u001b[49m\u001b[43m)\u001b[49m\n",
      "File \u001b[0;32m~/.pyenv/versions/lewagon/lib/python3.10/site-packages/sklearn/model_selection/_search.py:898\u001b[0m, in \u001b[0;36mBaseSearchCV.fit\u001b[0;34m(self, X, y, groups, **fit_params)\u001b[0m\n\u001b[1;32m    892\u001b[0m     results \u001b[38;5;241m=\u001b[39m \u001b[38;5;28mself\u001b[39m\u001b[38;5;241m.\u001b[39m_format_results(\n\u001b[1;32m    893\u001b[0m         all_candidate_params, n_splits, all_out, all_more_results\n\u001b[1;32m    894\u001b[0m     )\n\u001b[1;32m    896\u001b[0m     \u001b[38;5;28;01mreturn\u001b[39;00m results\n\u001b[0;32m--> 898\u001b[0m \u001b[38;5;28;43mself\u001b[39;49m\u001b[38;5;241;43m.\u001b[39;49m\u001b[43m_run_search\u001b[49m\u001b[43m(\u001b[49m\u001b[43mevaluate_candidates\u001b[49m\u001b[43m)\u001b[49m\n\u001b[1;32m    900\u001b[0m \u001b[38;5;66;03m# multimetric is determined here because in the case of a callable\u001b[39;00m\n\u001b[1;32m    901\u001b[0m \u001b[38;5;66;03m# self.scoring the return type is only known after calling\u001b[39;00m\n\u001b[1;32m    902\u001b[0m first_test_score \u001b[38;5;241m=\u001b[39m all_out[\u001b[38;5;241m0\u001b[39m][\u001b[38;5;124m\"\u001b[39m\u001b[38;5;124mtest_scores\u001b[39m\u001b[38;5;124m\"\u001b[39m]\n",
      "File \u001b[0;32m~/.pyenv/versions/lewagon/lib/python3.10/site-packages/sklearn/model_selection/_search.py:1809\u001b[0m, in \u001b[0;36mRandomizedSearchCV._run_search\u001b[0;34m(self, evaluate_candidates)\u001b[0m\n\u001b[1;32m   1807\u001b[0m \u001b[38;5;28;01mdef\u001b[39;00m \u001b[38;5;21m_run_search\u001b[39m(\u001b[38;5;28mself\u001b[39m, evaluate_candidates):\n\u001b[1;32m   1808\u001b[0m     \u001b[38;5;124;03m\"\"\"Search n_iter candidates from param_distributions\"\"\"\u001b[39;00m\n\u001b[0;32m-> 1809\u001b[0m     \u001b[43mevaluate_candidates\u001b[49m\u001b[43m(\u001b[49m\n\u001b[1;32m   1810\u001b[0m \u001b[43m        \u001b[49m\u001b[43mParameterSampler\u001b[49m\u001b[43m(\u001b[49m\n\u001b[1;32m   1811\u001b[0m \u001b[43m            \u001b[49m\u001b[38;5;28;43mself\u001b[39;49m\u001b[38;5;241;43m.\u001b[39;49m\u001b[43mparam_distributions\u001b[49m\u001b[43m,\u001b[49m\u001b[43m \u001b[49m\u001b[38;5;28;43mself\u001b[39;49m\u001b[38;5;241;43m.\u001b[39;49m\u001b[43mn_iter\u001b[49m\u001b[43m,\u001b[49m\u001b[43m \u001b[49m\u001b[43mrandom_state\u001b[49m\u001b[38;5;241;43m=\u001b[39;49m\u001b[38;5;28;43mself\u001b[39;49m\u001b[38;5;241;43m.\u001b[39;49m\u001b[43mrandom_state\u001b[49m\n\u001b[1;32m   1812\u001b[0m \u001b[43m        \u001b[49m\u001b[43m)\u001b[49m\n\u001b[1;32m   1813\u001b[0m \u001b[43m    \u001b[49m\u001b[43m)\u001b[49m\n",
      "File \u001b[0;32m~/.pyenv/versions/lewagon/lib/python3.10/site-packages/sklearn/model_selection/_search.py:875\u001b[0m, in \u001b[0;36mBaseSearchCV.fit.<locals>.evaluate_candidates\u001b[0;34m(candidate_params, cv, more_results)\u001b[0m\n\u001b[1;32m    868\u001b[0m \u001b[38;5;28;01melif\u001b[39;00m \u001b[38;5;28mlen\u001b[39m(out) \u001b[38;5;241m!=\u001b[39m n_candidates \u001b[38;5;241m*\u001b[39m n_splits:\n\u001b[1;32m    869\u001b[0m     \u001b[38;5;28;01mraise\u001b[39;00m \u001b[38;5;167;01mValueError\u001b[39;00m(\n\u001b[1;32m    870\u001b[0m         \u001b[38;5;124m\"\u001b[39m\u001b[38;5;124mcv.split and cv.get_n_splits returned \u001b[39m\u001b[38;5;124m\"\u001b[39m\n\u001b[1;32m    871\u001b[0m         \u001b[38;5;124m\"\u001b[39m\u001b[38;5;124minconsistent results. Expected \u001b[39m\u001b[38;5;132;01m{}\u001b[39;00m\u001b[38;5;124m \u001b[39m\u001b[38;5;124m\"\u001b[39m\n\u001b[1;32m    872\u001b[0m         \u001b[38;5;124m\"\u001b[39m\u001b[38;5;124msplits, got \u001b[39m\u001b[38;5;132;01m{}\u001b[39;00m\u001b[38;5;124m\"\u001b[39m\u001b[38;5;241m.\u001b[39mformat(n_splits, \u001b[38;5;28mlen\u001b[39m(out) \u001b[38;5;241m/\u001b[39m\u001b[38;5;241m/\u001b[39m n_candidates)\n\u001b[1;32m    873\u001b[0m     )\n\u001b[0;32m--> 875\u001b[0m \u001b[43m_warn_or_raise_about_fit_failures\u001b[49m\u001b[43m(\u001b[49m\u001b[43mout\u001b[49m\u001b[43m,\u001b[49m\u001b[43m \u001b[49m\u001b[38;5;28;43mself\u001b[39;49m\u001b[38;5;241;43m.\u001b[39;49m\u001b[43merror_score\u001b[49m\u001b[43m)\u001b[49m\n\u001b[1;32m    877\u001b[0m \u001b[38;5;66;03m# For callable self.scoring, the return type is only know after\u001b[39;00m\n\u001b[1;32m    878\u001b[0m \u001b[38;5;66;03m# calling. If the return type is a dictionary, the error scores\u001b[39;00m\n\u001b[1;32m    879\u001b[0m \u001b[38;5;66;03m# can now be inserted with the correct key. The type checking\u001b[39;00m\n\u001b[1;32m    880\u001b[0m \u001b[38;5;66;03m# of out will be done in `_insert_error_scores`.\u001b[39;00m\n\u001b[1;32m    881\u001b[0m \u001b[38;5;28;01mif\u001b[39;00m callable(\u001b[38;5;28mself\u001b[39m\u001b[38;5;241m.\u001b[39mscoring):\n",
      "File \u001b[0;32m~/.pyenv/versions/lewagon/lib/python3.10/site-packages/sklearn/model_selection/_validation.py:414\u001b[0m, in \u001b[0;36m_warn_or_raise_about_fit_failures\u001b[0;34m(results, error_score)\u001b[0m\n\u001b[1;32m    407\u001b[0m \u001b[38;5;28;01mif\u001b[39;00m num_failed_fits \u001b[38;5;241m==\u001b[39m num_fits:\n\u001b[1;32m    408\u001b[0m     all_fits_failed_message \u001b[38;5;241m=\u001b[39m (\n\u001b[1;32m    409\u001b[0m         \u001b[38;5;124mf\u001b[39m\u001b[38;5;124m\"\u001b[39m\u001b[38;5;130;01m\\n\u001b[39;00m\u001b[38;5;124mAll the \u001b[39m\u001b[38;5;132;01m{\u001b[39;00mnum_fits\u001b[38;5;132;01m}\u001b[39;00m\u001b[38;5;124m fits failed.\u001b[39m\u001b[38;5;130;01m\\n\u001b[39;00m\u001b[38;5;124m\"\u001b[39m\n\u001b[1;32m    410\u001b[0m         \u001b[38;5;124m\"\u001b[39m\u001b[38;5;124mIt is very likely that your model is misconfigured.\u001b[39m\u001b[38;5;130;01m\\n\u001b[39;00m\u001b[38;5;124m\"\u001b[39m\n\u001b[1;32m    411\u001b[0m         \u001b[38;5;124m\"\u001b[39m\u001b[38;5;124mYou can try to debug the error by setting error_score=\u001b[39m\u001b[38;5;124m'\u001b[39m\u001b[38;5;124mraise\u001b[39m\u001b[38;5;124m'\u001b[39m\u001b[38;5;124m.\u001b[39m\u001b[38;5;130;01m\\n\u001b[39;00m\u001b[38;5;130;01m\\n\u001b[39;00m\u001b[38;5;124m\"\u001b[39m\n\u001b[1;32m    412\u001b[0m         \u001b[38;5;124mf\u001b[39m\u001b[38;5;124m\"\u001b[39m\u001b[38;5;124mBelow are more details about the failures:\u001b[39m\u001b[38;5;130;01m\\n\u001b[39;00m\u001b[38;5;132;01m{\u001b[39;00mfit_errors_summary\u001b[38;5;132;01m}\u001b[39;00m\u001b[38;5;124m\"\u001b[39m\n\u001b[1;32m    413\u001b[0m     )\n\u001b[0;32m--> 414\u001b[0m     \u001b[38;5;28;01mraise\u001b[39;00m \u001b[38;5;167;01mValueError\u001b[39;00m(all_fits_failed_message)\n\u001b[1;32m    416\u001b[0m \u001b[38;5;28;01melse\u001b[39;00m:\n\u001b[1;32m    417\u001b[0m     some_fits_failed_message \u001b[38;5;241m=\u001b[39m (\n\u001b[1;32m    418\u001b[0m         \u001b[38;5;124mf\u001b[39m\u001b[38;5;124m\"\u001b[39m\u001b[38;5;130;01m\\n\u001b[39;00m\u001b[38;5;132;01m{\u001b[39;00mnum_failed_fits\u001b[38;5;132;01m}\u001b[39;00m\u001b[38;5;124m fits failed out of a total of \u001b[39m\u001b[38;5;132;01m{\u001b[39;00mnum_fits\u001b[38;5;132;01m}\u001b[39;00m\u001b[38;5;124m.\u001b[39m\u001b[38;5;130;01m\\n\u001b[39;00m\u001b[38;5;124m\"\u001b[39m\n\u001b[1;32m    419\u001b[0m         \u001b[38;5;124m\"\u001b[39m\u001b[38;5;124mThe score on these train-test partitions for these parameters\u001b[39m\u001b[38;5;124m\"\u001b[39m\n\u001b[0;32m   (...)\u001b[0m\n\u001b[1;32m    423\u001b[0m         \u001b[38;5;124mf\u001b[39m\u001b[38;5;124m\"\u001b[39m\u001b[38;5;124mBelow are more details about the failures:\u001b[39m\u001b[38;5;130;01m\\n\u001b[39;00m\u001b[38;5;132;01m{\u001b[39;00mfit_errors_summary\u001b[38;5;132;01m}\u001b[39;00m\u001b[38;5;124m\"\u001b[39m\n\u001b[1;32m    424\u001b[0m     )\n",
      "\u001b[0;31mValueError\u001b[0m: \nAll the 50 fits failed.\nIt is very likely that your model is misconfigured.\nYou can try to debug the error by setting error_score='raise'.\n\nBelow are more details about the failures:\n--------------------------------------------------------------------------------\n50 fits failed with the following error:\nTraceback (most recent call last):\n  File \"/home/mahdi/.pyenv/versions/lewagon/lib/python3.10/site-packages/sklearn/model_selection/_validation.py\", line 729, in _fit_and_score\n    estimator.fit(X_train, y_train, **fit_params)\n  File \"/home/mahdi/.pyenv/versions/lewagon/lib/python3.10/site-packages/imblearn/ensemble/_forest.py\", line 501, in fit\n    self._validate_estimator()\n  File \"/home/mahdi/.pyenv/versions/lewagon/lib/python3.10/site-packages/imblearn/ensemble/_forest.py\", line 389, in _validate_estimator\n    self.base_estimator_ = clone(self.base_estimator)\n  File \"/home/mahdi/.pyenv/versions/lewagon/lib/python3.10/site-packages/sklearn/base.py\", line 76, in clone\n    return _clone_parametrized(estimator, safe=safe)\n  File \"/home/mahdi/.pyenv/versions/lewagon/lib/python3.10/site-packages/sklearn/base.py\", line 98, in _clone_parametrized\n    raise TypeError(\nTypeError: Cannot clone object ''deprecated'' (type <class 'str'>): it does not seem to be a scikit-learn estimator as it does not implement a 'get_params' method.\n"
     ]
    }
   ],
   "source": [
    "from sklearn.model_selection import RandomizedSearchCV\n",
    "\n",
    "param_grid = {\n",
    "    'n_estimators': [50, 100, 200],\n",
    "    'max_depth': [10, 20, None],\n",
    "    'min_samples_split': [2, 5, 10],\n",
    "    'min_samples_leaf': [1, 2, 5],\n",
    "}\n",
    "\n",
    "# Randomized search\n",
    "random_search = RandomizedSearchCV(model, param_distributions=param_grid, n_iter=10, scoring='roc_auc', cv=5, random_state=42, n_jobs=-1)\n",
    "random_search.fit(X_final, y_final)\n",
    "\n",
    "print(\"Best parameters:\", random_search.best_params_)\n",
    "\n",
    "# Evaluate best model\n",
    "best_model = random_search.best_estimator_\n",
    "y_pred_best = best_model.predict(X_test_scaled)\n",
    "\n",
    "print(\"Updated Classification Report:\\n\", classification_report(y_test, y_pred_best))\n",
    "print(\"Updated AUC-ROC Score:\", roc_auc_score(y_test, y_pred_best))\n"
   ]
  },
  {
   "cell_type": "code",
   "execution_count": null,
   "metadata": {},
   "outputs": [],
   "source": [
    "import shap\n",
    "\n",
    "# Initialize SHAP Explainer\n",
    "explainer = shap.Explainer(best_model)\n",
    "shap_values = explainer(X_test_scaled)\n",
    "\n",
    "# Visualize feature importance\n",
    "shap.summary_plot(shap_values, X_test)\n"
   ]
  },
  {
   "cell_type": "code",
   "execution_count": null,
   "metadata": {},
   "outputs": [],
   "source": [
    "import joblib\n",
    "\n",
    "# Save model\n",
    "joblib.dump(best_model, \"fraud_detection_model.pkl\")\n",
    "\n",
    "# Load model for future use\n",
    "model_loaded = joblib.load(\"fraud_detection_model.pkl\")\n"
   ]
  },
  {
   "cell_type": "code",
   "execution_count": null,
   "metadata": {},
   "outputs": [],
   "source": []
  },
  {
   "cell_type": "code",
   "execution_count": null,
   "metadata": {},
   "outputs": [],
   "source": [
    "from xgboost import XGBClassifier\n",
    "\n",
    "# Initialize XGBoost with imbalance handling\n",
    "xgb_model = XGBClassifier(\n",
    "    scale_pos_weight=10,  # Helps in handling class imbalance\n",
    "    max_depth=6,\n",
    "    learning_rate=0.1,\n",
    "    n_estimators=200,\n",
    "    eval_metric=\"logloss\",\n",
    "    use_label_encoder=False,\n",
    "    random_state=42\n",
    ")\n",
    "\n",
    "# Train the model\n",
    "xgb_model.fit(X_final, y_final)\n",
    "\n",
    "# Make predictions\n",
    "y_pred_xgb = xgb_model.predict(X_test_scaled)\n",
    "\n",
    "# Evaluate\n",
    "print(classification_report(y_test, y_pred_xgb))\n"
   ]
  },
  {
   "cell_type": "code",
   "execution_count": 4,
   "metadata": {},
   "outputs": [
    {
     "ename": "ModuleNotFoundError",
     "evalue": "No module named 'lightgbm'",
     "output_type": "error",
     "traceback": [
      "\u001b[0;31m---------------------------------------------------------------------------\u001b[0m",
      "\u001b[0;31mModuleNotFoundError\u001b[0m                       Traceback (most recent call last)",
      "Cell \u001b[0;32mIn [4], line 1\u001b[0m\n\u001b[0;32m----> 1\u001b[0m \u001b[38;5;28;01mfrom\u001b[39;00m \u001b[38;5;21;01mlightgbm\u001b[39;00m \u001b[38;5;28;01mimport\u001b[39;00m LGBMClassifier\n\u001b[1;32m      3\u001b[0m \u001b[38;5;66;03m# Initialize LightGBM\u001b[39;00m\n\u001b[1;32m      4\u001b[0m lgbm_model \u001b[38;5;241m=\u001b[39m LGBMClassifier(\n\u001b[1;32m      5\u001b[0m     boosting_type\u001b[38;5;241m=\u001b[39m\u001b[38;5;124m'\u001b[39m\u001b[38;5;124mgbdt\u001b[39m\u001b[38;5;124m'\u001b[39m,\n\u001b[1;32m      6\u001b[0m     num_leaves\u001b[38;5;241m=\u001b[39m\u001b[38;5;241m31\u001b[39m,\n\u001b[0;32m   (...)\u001b[0m\n\u001b[1;32m     11\u001b[0m     random_state\u001b[38;5;241m=\u001b[39m\u001b[38;5;241m42\u001b[39m\n\u001b[1;32m     12\u001b[0m )\n",
      "\u001b[0;31mModuleNotFoundError\u001b[0m: No module named 'lightgbm'"
     ]
    }
   ],
   "source": [
    "from lightgbm import LGBMClassifier\n",
    "\n",
    "# Initialize LightGBM\n",
    "lgbm_model = LGBMClassifier(\n",
    "    boosting_type='gbdt',\n",
    "    num_leaves=31,\n",
    "    max_depth=-1,\n",
    "    learning_rate=0.05,\n",
    "    n_estimators=200,\n",
    "    scale_pos_weight=10,  # Handles class imbalance\n",
    "    random_state=42\n",
    ")\n",
    "\n",
    "# Train the model\n",
    "lgbm_model.fit(X_final, y_final)\n",
    "\n",
    "# Make predictions\n",
    "y_pred_lgbm = lgbm_model.predict(X_test_scaled)\n",
    "\n",
    "# Evaluate\n",
    "print(classification_report(y_test, y_pred_lgbm))\n"
   ]
  },
  {
   "cell_type": "code",
   "execution_count": null,
   "metadata": {},
   "outputs": [],
   "source": [
    "import tensorflow as tf\n",
    "from tensorflow.keras import layers, models\n",
    "\n",
    "# Define the autoencoder architecture\n",
    "input_dim = X_final.shape[1]\n",
    "\n",
    "autoencoder = models.Sequential([\n",
    "    layers.Dense(24, activation='relu', input_shape=(input_dim,)),\n",
    "    layers.Dense(12, activation='relu'),\n",
    "    layers.Dense(6, activation='relu'),\n",
    "    layers.Dense(12, activation='relu'),\n",
    "    layers.Dense(24, activation='relu'),\n",
    "    layers.Dense(input_dim, activation='sigmoid')  # Output should match input\n",
    "])\n",
    "\n",
    "autoencoder.compile(optimizer='adam', loss='mse')\n",
    "\n",
    "# Train the autoencoder on non-fraud data\n",
    "autoencoder.fit(X_final[y_final == 0], X_final[y_final == 0], epochs=10, batch_size=32)\n",
    "\n",
    "# Reconstruction loss can help detect fraud\n",
    "reconstruction = autoencoder.predict(X_test_scaled)\n",
    "reconstruction_loss = tf.keras.losses.mean_squared_error(X_test_scaled, reconstruction)\n",
    "threshold = np.percentile(reconstruction_loss, 95)  # Set threshold at 95% percentile\n",
    "\n",
    "fraud_predictions = (reconstruction_loss > threshold).astype(int)\n",
    "\n",
    "# Evaluate\n",
    "print(classification_report(y_test, fraud_predictions))\n"
   ]
  },
  {
   "cell_type": "code",
   "execution_count": null,
   "metadata": {},
   "outputs": [],
   "source": []
  },
  {
   "cell_type": "code",
   "execution_count": null,
   "metadata": {},
   "outputs": [],
   "source": []
  },
  {
   "cell_type": "code",
   "execution_count": null,
   "metadata": {},
   "outputs": [],
   "source": []
  },
  {
   "cell_type": "code",
   "execution_count": null,
   "metadata": {},
   "outputs": [],
   "source": []
  },
  {
   "cell_type": "code",
   "execution_count": null,
   "metadata": {},
   "outputs": [],
   "source": []
  },
  {
   "cell_type": "code",
   "execution_count": null,
   "metadata": {},
   "outputs": [],
   "source": [
    "import joblib\n",
    "\n",
    "# Save the trained model\n",
    "joblib.dump(best_model, \"fraud_detection_model.pkl\")\n",
    "\n",
    "# Save the preprocessing pipeline as well\n",
    "joblib.dump(preprocessor, \"preprocessing_pipeline.pkl\")\n",
    "\n",
    "print(\"Model and preprocessing pipeline saved successfully!\")\n"
   ]
  },
  {
   "cell_type": "code",
   "execution_count": null,
   "metadata": {},
   "outputs": [],
   "source": [
    "pip install fastapi uvicorn joblib pandas numpy\n",
    "uvicorn main:app --host 0.0.0.0 --port 8000 --reload\n"
   ]
  },
  {
   "cell_type": "code",
   "execution_count": null,
   "metadata": {},
   "outputs": [],
   "source": [
    "from fastapi import FastAPI\n",
    "import joblib\n",
    "import numpy as np\n",
    "import pandas as pd\n",
    "from pydantic import BaseModel\n",
    "\n",
    "# Load the trained model and preprocessing pipeline\n",
    "model = joblib.load(\"fraud_detection_model.pkl\")\n",
    "preprocessor = joblib.load(\"preprocessing_pipeline.pkl\")\n",
    "\n",
    "# Initialize FastAPI app\n",
    "app = FastAPI()\n",
    "\n",
    "# Define the request format\n",
    "class Transaction(BaseModel):\n",
    "    V1: float\n",
    "    V2: float\n",
    "    V3: float\n",
    "    V4: float\n",
    "    V5: float\n",
    "    V6: float\n",
    "    V7: float\n",
    "    V8: float\n",
    "    V9: float\n",
    "    V10: float\n",
    "    V11: float\n",
    "    V12: float\n",
    "    V13: float\n",
    "    V14: float\n",
    "    V15: float\n",
    "    V16: float\n",
    "    V17: float\n",
    "    V18: float\n",
    "    V19: float\n",
    "    V20: float\n",
    "    V21: float\n",
    "    V22: float\n",
    "    V23: float\n",
    "    V24: float\n",
    "    V25: float\n",
    "    V26: float\n",
    "    V27: float\n",
    "    V28: float\n",
    "    Amount: float\n",
    "    Hour: int\n",
    "\n",
    "@app.get(\"/\")\n",
    "def home():\n",
    "    return {\"message\": \"Credit Card Fraud Detection API is running!\"}\n",
    "\n",
    "@app.post(\"/predict\")\n",
    "def predict(transaction: Transaction):\n",
    "    # Convert input data to DataFrame\n",
    "    input_data = pd.DataFrame([transaction.dict()])\n",
    "\n",
    "    # Apply preprocessing\n",
    "    input_scaled = preprocessor.transform(input_data)\n",
    "\n",
    "    # Make prediction\n",
    "    prediction = model.predict(input_scaled)\n",
    "    prediction_proba = model.predict_proba(input_scaled)[:, 1]\n",
    "\n",
    "    return {\n",
    "        \"fraud_prediction\": int(prediction[0]),\n",
    "        \"fraud_probability\": float(prediction_proba[0])\n",
    "    }\n"
   ]
  }
 ],
 "metadata": {
  "kernelspec": {
   "display_name": "lewagon",
   "language": "python",
   "name": "python3"
  },
  "language_info": {
   "codemirror_mode": {
    "name": "ipython",
    "version": 3
   },
   "file_extension": ".py",
   "mimetype": "text/x-python",
   "name": "python",
   "nbconvert_exporter": "python",
   "pygments_lexer": "ipython3",
   "version": "3.10.6"
  }
 },
 "nbformat": 4,
 "nbformat_minor": 2
}
